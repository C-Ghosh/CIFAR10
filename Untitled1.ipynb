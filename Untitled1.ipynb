{
  "nbformat": 4,
  "nbformat_minor": 0,
  "metadata": {
    "colab": {
      "name": "Untitled1.ipynb",
      "version": "0.3.2",
      "provenance": [],
      "collapsed_sections": []
    },
    "kernelspec": {
      "name": "python3",
      "display_name": "Python 3"
    },
    "accelerator": "TPU"
  },
  "cells": [
    {
      "metadata": {
        "id": "X_XAyeFT_i8u",
        "colab_type": "code",
        "colab": {
          "base_uri": "https://localhost:8080/",
          "height": 204
        },
        "outputId": "7be0c8c6-2fb4-4390-faa1-6a113c13f7a3"
      },
      "cell_type": "code",
      "source": [
        "! wget https://www.cs.toronto.edu/~kriz/cifar-10-python.tar.gz "
      ],
      "execution_count": 1,
      "outputs": [
        {
          "output_type": "stream",
          "text": [
            "--2018-10-28 14:51:26--  https://www.cs.toronto.edu/~kriz/cifar-10-python.tar.gz\n",
            "Resolving www.cs.toronto.edu (www.cs.toronto.edu)... 128.100.3.30\n",
            "Connecting to www.cs.toronto.edu (www.cs.toronto.edu)|128.100.3.30|:443... connected.\n",
            "HTTP request sent, awaiting response... 200 OK\n",
            "Length: 170498071 (163M) [application/x-gzip]\n",
            "Saving to: ‘cifar-10-python.tar.gz’\n",
            "\n",
            "cifar-10-python.tar 100%[===================>] 162.60M  3.92MB/s    in 43s     \n",
            "\n",
            "2018-10-28 14:52:10 (3.75 MB/s) - ‘cifar-10-python.tar.gz’ saved [170498071/170498071]\n",
            "\n"
          ],
          "name": "stdout"
        }
      ]
    },
    {
      "metadata": {
        "id": "1Urc8aiwM1q_",
        "colab_type": "code",
        "colab": {
          "base_uri": "https://localhost:8080/",
          "height": 170
        },
        "outputId": "3da503ff-4551-40b9-a11f-1ff50f8ed01d"
      },
      "cell_type": "code",
      "source": [
        "!tar -xvf cifar-10-python.tar.gz"
      ],
      "execution_count": 2,
      "outputs": [
        {
          "output_type": "stream",
          "text": [
            "cifar-10-batches-py/\n",
            "cifar-10-batches-py/data_batch_4\n",
            "cifar-10-batches-py/readme.html\n",
            "cifar-10-batches-py/test_batch\n",
            "cifar-10-batches-py/data_batch_3\n",
            "cifar-10-batches-py/batches.meta\n",
            "cifar-10-batches-py/data_batch_2\n",
            "cifar-10-batches-py/data_batch_5\n",
            "cifar-10-batches-py/data_batch_1\n"
          ],
          "name": "stdout"
        }
      ]
    },
    {
      "metadata": {
        "id": "Us5uAf17NAEI",
        "colab_type": "code",
        "colab": {}
      },
      "cell_type": "code",
      "source": [
        "cifar10_dataset_folder_path = \"cifar-10-batches-py/\" "
      ],
      "execution_count": 0,
      "outputs": []
    },
    {
      "metadata": {
        "id": "VJ8b2T5fOcQp",
        "colab_type": "text"
      },
      "cell_type": "markdown",
      "source": [
        "#Helper Functions"
      ]
    },
    {
      "metadata": {
        "id": "U4x2R8DmNFFp",
        "colab_type": "code",
        "colab": {}
      },
      "cell_type": "code",
      "source": [
        "import pickle\n",
        "import numpy as np\n",
        "import matplotlib.pyplot as plt\n",
        "from sklearn.preprocessing import LabelBinarizer\n",
        "\n",
        "\n",
        "def _load_label_names():\n",
        "    \"\"\"\n",
        "    Load the label names from file\n",
        "    \"\"\"\n",
        "    return ['airplane', 'automobile', 'bird', 'cat', 'deer', 'dog', 'frog', 'horse', 'ship', 'truck']\n",
        "\n",
        "\n",
        "def load_cfar10_batch(cifar10_dataset_folder_path, batch_id):\n",
        "    \"\"\"\n",
        "    Load a batch of the dataset\n",
        "    \"\"\"\n",
        "    with open(cifar10_dataset_folder_path + '/data_batch_' + str(batch_id), mode='rb') as file:\n",
        "        batch = pickle.load(file, encoding='latin1')\n",
        "\n",
        "    features = batch['data'].reshape((len(batch['data']), 3, 32, 32)).transpose(0, 2, 3, 1)\n",
        "    labels = batch['labels']\n",
        "\n",
        "    return features, labels\n",
        "\n",
        "\n",
        "def display_stats(cifar10_dataset_folder_path, batch_id, sample_id):\n",
        "    \"\"\"\n",
        "    Display Stats of the the dataset\n",
        "    \"\"\"\n",
        "    batch_ids = list(range(1, 6))\n",
        "\n",
        "    if batch_id not in batch_ids:\n",
        "        print('Batch Id out of Range. Possible Batch Ids: {}'.format(batch_ids))\n",
        "        return None\n",
        "\n",
        "    features, labels = load_cfar10_batch(cifar10_dataset_folder_path, batch_id)\n",
        "\n",
        "    if not (0 <= sample_id < len(features)):\n",
        "        print('{} samples in batch {}.  {} is out of range.'.format(len(features), batch_id, sample_id))\n",
        "        return None\n",
        "\n",
        "    print('\\nStats of batch {}:'.format(batch_id))\n",
        "    print('Samples: {}'.format(len(features)))\n",
        "    print('Label Counts: {}'.format(dict(zip(*np.unique(labels, return_counts=True)))))\n",
        "    print('First 20 Labels: {}'.format(labels[:20]))\n",
        "\n",
        "    sample_image = features[sample_id]\n",
        "    sample_label = labels[sample_id]\n",
        "    label_names = _load_label_names()\n",
        "\n",
        "    print('\\nExample of Image {}:'.format(sample_id))\n",
        "    print('Image - Min Value: {} Max Value: {}'.format(sample_image.min(), sample_image.max()))\n",
        "    print('Image - Shape: {}'.format(sample_image.shape))\n",
        "    print('Label - Label Id: {} Name: {}'.format(sample_label, label_names[sample_label]))\n",
        "    plt.axis('off')\n",
        "    plt.imshow(sample_image)\n",
        "\n",
        "\n",
        "def _preprocess_and_save(normalize, one_hot_encode, features, labels, filename):\n",
        "    \"\"\"\n",
        "    Preprocess data and save it to file\n",
        "    \"\"\"\n",
        "    features = normalize(features)\n",
        "    labels = one_hot_encode(labels)\n",
        "\n",
        "    pickle.dump((features, labels), open(filename, 'wb'))\n",
        "\n",
        "\n",
        "def preprocess_and_save_data(cifar10_dataset_folder_path, normalize, one_hot_encode):\n",
        "    \"\"\"\n",
        "    Preprocess Training and Validation Data\n",
        "    \"\"\"\n",
        "    n_batches = 5\n",
        "    valid_features = []\n",
        "    valid_labels = []\n",
        "\n",
        "    for batch_i in range(1, n_batches + 1):\n",
        "        features, labels = load_cfar10_batch(cifar10_dataset_folder_path, batch_i)\n",
        "        validation_count = int(len(features) * 0.1)\n",
        "\n",
        "        # Prprocess and save a batch of training data\n",
        "        _preprocess_and_save(\n",
        "            normalize,\n",
        "            one_hot_encode,\n",
        "            features[:-validation_count],\n",
        "            labels[:-validation_count],\n",
        "            'preprocess_batch_' + str(batch_i) + '.p')\n",
        "\n",
        "        # Use a portion of training batch for validation\n",
        "        valid_features.extend(features[-validation_count:])\n",
        "        valid_labels.extend(labels[-validation_count:])\n",
        "\n",
        "    # Preprocess and Save all validation data\n",
        "    _preprocess_and_save(\n",
        "        normalize,\n",
        "        one_hot_encode,\n",
        "        np.array(valid_features),\n",
        "        np.array(valid_labels),\n",
        "        'preprocess_validation.p')\n",
        "\n",
        "    with open(cifar10_dataset_folder_path + '/test_batch', mode='rb') as file:\n",
        "        batch = pickle.load(file, encoding='latin1')\n",
        "\n",
        "    # load the training data\n",
        "    test_features = batch['data'].reshape((len(batch['data']), 3, 32, 32)).transpose(0, 2, 3, 1)\n",
        "    test_labels = batch['labels']\n",
        "\n",
        "    # Preprocess and Save all training data\n",
        "    _preprocess_and_save(\n",
        "        normalize,\n",
        "        one_hot_encode,\n",
        "        np.array(test_features),\n",
        "        np.array(test_labels),\n",
        "        'preprocess_training.p')\n",
        "\n",
        "\n",
        "def batch_features_labels(features, labels, batch_size):\n",
        "    \"\"\"\n",
        "    Split features and labels into batches\n",
        "    \"\"\"\n",
        "    for start in range(0, len(features), batch_size):\n",
        "        end = min(start + batch_size, len(features))\n",
        "        yield features[start:end], labels[start:end]\n",
        "\n",
        "\n",
        "def load_preprocess_training_batch(batch_id, batch_size):\n",
        "    \"\"\"\n",
        "    Load the Preprocessed Training data and return them in batches of <batch_size> or less\n",
        "    \"\"\"\n",
        "    filename = 'preprocess_batch_' + str(batch_id) + '.p'\n",
        "    features, labels = pickle.load(open(filename, mode='rb'))\n",
        "\n",
        "    # Return the training data in batches of size <batch_size> or less\n",
        "    return batch_features_labels(features, labels, batch_size)\n",
        "\n",
        "\n",
        "def display_image_predictions(features, labels, predictions):\n",
        "    n_classes = 10\n",
        "    label_names = _load_label_names()\n",
        "    label_binarizer = LabelBinarizer()\n",
        "    label_binarizer.fit(range(n_classes))\n",
        "    label_ids = label_binarizer.inverse_transform(np.array(labels))\n",
        "\n",
        "    fig, axies = plt.subplots(nrows=4, ncols=2)\n",
        "    fig.tight_layout()\n",
        "    fig.suptitle('Softmax Predictions', fontsize=20, y=1.1)\n",
        "\n",
        "    n_predictions = 3\n",
        "    margin = 0.05\n",
        "    ind = np.arange(n_predictions)\n",
        "    width = (1. - 2. * margin) / n_predictions\n",
        "\n",
        "    for image_i, (feature, label_id, pred_indicies, pred_values) in enumerate(zip(features, label_ids, predictions.indices, predictions.values)):\n",
        "        pred_names = [label_names[pred_i] for pred_i in pred_indicies]\n",
        "        correct_name = label_names[label_id]\n",
        "\n",
        "        axies[image_i][0].imshow(feature)\n",
        "        axies[image_i][0].set_title(correct_name)\n",
        "        axies[image_i][0].set_axis_off()\n",
        "\n",
        "        axies[image_i][1].barh(ind + margin, pred_values[::-1], width)\n",
        "        axies[image_i][1].set_yticks(ind + margin)\n",
        "        axies[image_i][1].set_yticklabels(pred_names[::-1])\n",
        "        axies[image_i][1].set_xticks([0, 0.5, 1.0])"
      ],
      "execution_count": 0,
      "outputs": []
    },
    {
      "metadata": {
        "id": "vjD5cX1WKhJv",
        "colab_type": "text"
      },
      "cell_type": "markdown",
      "source": [
        "# Explore the Data"
      ]
    },
    {
      "metadata": {
        "id": "n_H4U_v7NbF7",
        "colab_type": "code",
        "colab": {
          "base_uri": "https://localhost:8080/",
          "height": 517
        },
        "outputId": "3ac6d06d-c437-4148-d3f8-271df0350eae"
      },
      "cell_type": "code",
      "source": [
        "batch_id = 1\n",
        "sample_id = 17\n",
        "display_stats(cifar10_dataset_folder_path, batch_id, sample_id)"
      ],
      "execution_count": 8,
      "outputs": [
        {
          "output_type": "stream",
          "text": [
            "\n",
            "Stats of batch 1:\n",
            "Samples: 10000\n",
            "Label Counts: {0: 1005, 1: 974, 2: 1032, 3: 1016, 4: 999, 5: 937, 6: 1030, 7: 1001, 8: 1025, 9: 981}\n",
            "First 20 Labels: [6, 9, 9, 4, 1, 1, 2, 7, 8, 3, 4, 7, 7, 2, 9, 9, 9, 3, 2, 6]\n",
            "\n",
            "Example of Image 17:\n",
            "Image - Min Value: 25 Max Value: 225\n",
            "Image - Shape: (32, 32, 3)\n",
            "Label - Label Id: 3 Name: cat\n"
          ],
          "name": "stdout"
        },
        {
          "output_type": "display_data",
          "data": {
            "image/png": "[encoded data removed]",
            "text/plain": [
              "<matplotlib.figure.Figure at 0x7f9883c070f0>"
            ]
          },
          "metadata": {
            "tags": []
          }
        }
      ]
    },
    {
      "metadata": {
        "id": "5BuVMdjTOjVp",
        "colab_type": "text"
      },
      "cell_type": "markdown",
      "source": [
        "#Testing Functions"
      ]
    },
    {
      "metadata": {
        "id": "fcp6rdyoOTqm",
        "colab_type": "code",
        "colab": {}
      },
      "cell_type": "code",
      "source": [
        "import os\n",
        "import numpy as np\n",
        "import tensorflow as tf\n",
        "import random\n",
        "from unittest.mock import MagicMock\n",
        "\n",
        "\n",
        "def _print_success_message():\n",
        "    print('Tests Passed')\n",
        "\n",
        "\n",
        "def test_folder_path(cifar10_dataset_folder_path):\n",
        "    assert cifar10_dataset_folder_path is not None,\\\n",
        "        'Cifar-10 data folder not set.'\n",
        "    assert cifar10_dataset_folder_path[-1] != '/',\\\n",
        "        'The \"/\" shouldn\\'t be added to the end of the path.'\n",
        "    assert os.path.exists(cifar10_dataset_folder_path),\\\n",
        "        'Path not found.'\n",
        "    assert os.path.isdir(cifar10_dataset_folder_path),\\\n",
        "        '{} is not a folder.'.format(os.path.basename(cifar10_dataset_folder_path))\n",
        "\n",
        "    train_files = [cifar10_dataset_folder_path + '/data_batch_' + str(batch_id) for batch_id in range(1, 6)]\n",
        "    other_files = [cifar10_dataset_folder_path + '/batches.meta', cifar10_dataset_folder_path + '/test_batch']\n",
        "    missing_files = [path for path in train_files + other_files if not os.path.exists(path)]\n",
        "\n",
        "    assert not missing_files,\\\n",
        "        'Missing files in directory: {}'.format(missing_files)\n",
        "\n",
        "    print('All files found!')\n",
        "\n",
        "\n",
        "def test_normalize(normalize):\n",
        "    test_shape = (np.random.choice(range(1000)), 32, 32, 3)\n",
        "    test_numbers = np.random.choice(range(256), test_shape)\n",
        "    normalize_out = normalize(test_numbers)\n",
        "\n",
        "    assert type(normalize_out).__module__ == np.__name__,\\\n",
        "        'Not Numpy Object'\n",
        "\n",
        "    assert normalize_out.shape == test_shape,\\\n",
        "        'Incorrect Shape. {} shape found'.format(normalize_out.shape)\n",
        "\n",
        "    assert normalize_out.max() <= 1 and normalize_out.min() >= 0,\\\n",
        "        'Incorect Range. {} to {} found'.format(normalize_out.min(), normalize_out.max())\n",
        "\n",
        "    _print_success_message()\n",
        "\n",
        "\n",
        "def test_one_hot_encode(one_hot_encode):\n",
        "    test_shape = np.random.choice(range(1000))\n",
        "    test_numbers = np.random.choice(range(10), test_shape)\n",
        "    one_hot_out = one_hot_encode(test_numbers)\n",
        "\n",
        "    assert type(one_hot_out).__module__ == np.__name__,\\\n",
        "        'Not Numpy Object'\n",
        "\n",
        "    assert one_hot_out.shape == (test_shape, 10),\\\n",
        "        'Incorrect Shape. {} shape found'.format(one_hot_out.shape)\n",
        "\n",
        "    n_encode_tests = 5\n",
        "    test_pairs = list(zip(test_numbers, one_hot_out))\n",
        "    test_indices = np.random.choice(len(test_numbers), n_encode_tests)\n",
        "    labels = [test_pairs[test_i][0] for test_i in test_indices]\n",
        "    enc_labels = np.array([test_pairs[test_i][1] for test_i in test_indices])\n",
        "    new_enc_labels = one_hot_encode(labels)\n",
        "\n",
        "    assert np.array_equal(enc_labels, new_enc_labels),\\\n",
        "        'Encodings returned different results for the same numbers.\\n' \\\n",
        "        'For the first call it returned:\\n' \\\n",
        "        '{}\\n' \\\n",
        "        'For the second call it returned\\n' \\\n",
        "        '{}\\n' \\\n",
        "        'Make sure you save the map of labels to encodings outside of the function.'.format(enc_labels, new_enc_labels)\n",
        "\n",
        "    _print_success_message()\n",
        "\n",
        "\n",
        "def test_nn_image_inputs(neural_net_image_input):\n",
        "    image_shape = (32, 32, 3)\n",
        "    nn_inputs_out_x = neural_net_image_input(image_shape)\n",
        "\n",
        "    assert nn_inputs_out_x.get_shape().as_list() == [None, image_shape[0], image_shape[1], image_shape[2]],\\\n",
        "        'Incorrect Image Shape.  Found {} shape'.format(nn_inputs_out_x.get_shape().as_list())\n",
        "\n",
        "    assert nn_inputs_out_x.op.type == 'Placeholder',\\\n",
        "        'Incorrect Image Type.  Found {} type'.format(nn_inputs_out_x.op.type)\n",
        "\n",
        "    assert nn_inputs_out_x.name == 'x:0', \\\n",
        "        'Incorrect Name.  Found {}'.format(nn_inputs_out_x.name)\n",
        "\n",
        "    print('Image Input Tests Passed.')\n",
        "\n",
        "\n",
        "def test_nn_label_inputs(neural_net_label_input):\n",
        "    n_classes = 10\n",
        "    nn_inputs_out_y = neural_net_label_input(n_classes)\n",
        "\n",
        "    assert nn_inputs_out_y.get_shape().as_list() == [None, n_classes],\\\n",
        "        'Incorrect Label Shape.  Found {} shape'.format(nn_inputs_out_y.get_shape().as_list())\n",
        "\n",
        "    assert nn_inputs_out_y.op.type == 'Placeholder',\\\n",
        "        'Incorrect Label Type.  Found {} type'.format(nn_inputs_out_y.op.type)\n",
        "\n",
        "    assert nn_inputs_out_y.name == 'y:0', \\\n",
        "        'Incorrect Name.  Found {}'.format(nn_inputs_out_y.name)\n",
        "\n",
        "    print('Label Input Tests Passed.')\n",
        "\n",
        "\n",
        "def test_nn_keep_prob_inputs(neural_net_keep_prob_input):\n",
        "    nn_inputs_out_k = neural_net_keep_prob_input()\n",
        "\n",
        "    assert nn_inputs_out_k.get_shape().ndims is None,\\\n",
        "        'Too many dimensions found for keep prob.  Found {} dimensions.  It should be a scalar (0-Dimension Tensor).'.format(nn_inputs_out_k.get_shape().ndims)\n",
        "\n",
        "    assert nn_inputs_out_k.op.type == 'Placeholder',\\\n",
        "        'Incorrect keep prob Type.  Found {} type'.format(nn_inputs_out_k.op.type)\n",
        "\n",
        "    assert nn_inputs_out_k.name == 'keep_prob:0', \\\n",
        "        'Incorrect Name.  Found {}'.format(nn_inputs_out_k.name)\n",
        "\n",
        "    print('Keep Prob Tests Passed.')\n",
        "\n",
        "\n",
        "def test_con_pool(conv2d_maxpool):\n",
        "    test_x = tf.placeholder(tf.float32, [None, 32, 32, 5])\n",
        "    test_num_outputs = 10\n",
        "    test_con_k = (2, 2)\n",
        "    test_con_s = (4, 4)\n",
        "    test_pool_k = (2, 2)\n",
        "    test_pool_s = (2, 2)\n",
        "\n",
        "    conv2d_maxpool_out = conv2d_maxpool(test_x, test_num_outputs, test_con_k, test_con_s, test_pool_k, test_pool_s)\n",
        "\n",
        "    assert conv2d_maxpool_out.get_shape().as_list() == [None, 4, 4, 10],\\\n",
        "        'Incorrect Shape.  Found {} shape'.format(conv2d_maxpool_out.get_shape().as_list())\n",
        "\n",
        "    _print_success_message()\n",
        "\n",
        "\n",
        "def test_flatten(flatten):\n",
        "    test_x = tf.placeholder(tf.float32, [None, 10, 30, 6])\n",
        "    flat_out = flatten(test_x)\n",
        "\n",
        "    assert flat_out.get_shape().as_list() == [None, 10*30*6],\\\n",
        "        'Incorrect Shape.  Found {} shape'.format(flat_out.get_shape().as_list())\n",
        "\n",
        "    _print_success_message()\n",
        "\n",
        "\n",
        "def test_fully_conn(fully_conn):\n",
        "    test_x = tf.placeholder(tf.float32, [None, 128])\n",
        "    test_num_outputs = 40\n",
        "\n",
        "    fc_out = fully_conn(test_x, test_num_outputs)\n",
        "\n",
        "    assert fc_out.get_shape().as_list() == [None, 40],\\\n",
        "        'Incorrect Shape.  Found {} shape'.format(fc_out.get_shape().as_list())\n",
        "\n",
        "    _print_success_message()\n",
        "\n",
        "\n",
        "def test_output(output):\n",
        "    test_x = tf.placeholder(tf.float32, [None, 128])\n",
        "    test_num_outputs = 40\n",
        "\n",
        "    output_out = output(test_x, test_num_outputs)\n",
        "\n",
        "    assert output_out.get_shape().as_list() == [None, 40],\\\n",
        "        'Incorrect Shape.  Found {} shape'.format(output_out.get_shape().as_list())\n",
        "\n",
        "    _print_success_message()\n",
        "\n",
        "\n",
        "def test_conv_net(conv_net):\n",
        "    test_x = tf.placeholder(tf.float32, [None, 32, 32, 3])\n",
        "    test_k = tf.placeholder(tf.float32)\n",
        "\n",
        "    logits_out = conv_net(test_x, test_k)\n",
        "\n",
        "    assert logits_out.get_shape().as_list() == [None, 10],\\\n",
        "        'Incorrect Model Output.  Found {}'.format(logits_out.get_shape().as_list())\n",
        "\n",
        "    print('Neural Network Built!')\n",
        "\n",
        "\n",
        "def test_train_nn(train_neural_network):\n",
        "    mock_session = tf.Session()\n",
        "    test_x = np.random.rand(128, 32, 32, 3)\n",
        "    test_y = np.random.rand(128, 10)\n",
        "    test_k = np.random.rand(1)\n",
        "    test_optimizer = tf.train.AdamOptimizer()\n",
        "\n",
        "    mock_session.run = MagicMock()\n",
        "    train_neural_network(mock_session, test_optimizer, test_k, test_x, test_y)\n",
        "\n",
        "    assert mock_session.run.called, 'Session not used'\n",
        "\n",
        "    _print_success_message()"
      ],
      "execution_count": 0,
      "outputs": []
    },
    {
      "metadata": {
        "id": "-EDrquNcKr98",
        "colab_type": "text"
      },
      "cell_type": "markdown",
      "source": [
        "# Implement Preprocess Functions\n",
        "\n",
        "# Normalize\n",
        "\n",
        "In the cell below, implement the normalize function to take in image data, x, and return it as a normalized Numpy array. The values should be in the range of 0 to 1, inclusive. The return object should be the same shape as x."
      ]
    },
    {
      "metadata": {
        "id": "lL3IgHHCPbCt",
        "colab_type": "code",
        "colab": {
          "base_uri": "https://localhost:8080/",
          "height": 34
        },
        "outputId": "8d576476-8de4-4f87-8da5-40307b1f1843"
      },
      "cell_type": "code",
      "source": [
        "def normalize(x):\n",
        "    \"\"\"\n",
        "    Normalize a list of sample image data in the range of 0 to 1\n",
        "    : x: List of image data. The image shape is (32, 32, 3)\n",
        "    : return: Numpy array of normalize data\n",
        "    \"\"\"\n",
        "    return x / 255\n",
        "\n",
        "\n",
        "test_normalize(normalize)"
      ],
      "execution_count": 11,
      "outputs": [
        {
          "output_type": "stream",
          "text": [
            "Tests Passed\n"
          ],
          "name": "stdout"
        }
      ]
    },
    {
      "metadata": {
        "id": "vzVZyT1-LCyJ",
        "colab_type": "text"
      },
      "cell_type": "markdown",
      "source": [
        "#One-hot encode\n"
      ]
    },
    {
      "metadata": {
        "id": "eGCs-hJxPqm1",
        "colab_type": "code",
        "colab": {
          "base_uri": "https://localhost:8080/",
          "height": 34
        },
        "outputId": "30c2e93c-6309-4052-b7bb-6cd2f72ec703"
      },
      "cell_type": "code",
      "source": [
        "from sklearn.preprocessing import LabelBinarizer\n",
        "\n",
        "def one_hot_encode(x):\n",
        "    \"\"\"\n",
        "    One hot encode a list of sample labels. Return a one-hot encoded vector for each label.\n",
        "    : x: List of sample Labels\n",
        "    : return: Numpy array of one-hot encoded labels\n",
        "    \"\"\"\n",
        "    # The possible values for labels are 0 to 9. 10 in total\n",
        "    return np.eye(10)[x]\n",
        "\n",
        "\n",
        "\"\"\"\n",
        "DON'T MODIFY ANYTHING IN THIS CELL THAT IS BELOW THIS LINE\n",
        "\"\"\"\n",
        "test_one_hot_encode(one_hot_encode)"
      ],
      "execution_count": 12,
      "outputs": [
        {
          "output_type": "stream",
          "text": [
            "Tests Passed\n"
          ],
          "name": "stdout"
        }
      ]
    },
    {
      "metadata": {
        "id": "Ovlwt4ObLaM-",
        "colab_type": "text"
      },
      "cell_type": "markdown",
      "source": [
        "#Randomize Data\n",
        "# Preprocess all the data and save it"
      ]
    },
    {
      "metadata": {
        "id": "He7ROOBFQVlE",
        "colab_type": "code",
        "colab": {}
      },
      "cell_type": "code",
      "source": [
        "# Preprocess Training, Validation, and Testing Data\n",
        "preprocess_and_save_data(cifar10_dataset_folder_path, normalize, one_hot_encode)"
      ],
      "execution_count": 0,
      "outputs": []
    },
    {
      "metadata": {
        "id": "lHJGwRRMLv47",
        "colab_type": "text"
      },
      "cell_type": "markdown",
      "source": [
        "#Check Point"
      ]
    },
    {
      "metadata": {
        "id": "YCL_ygG9QdyT",
        "colab_type": "code",
        "colab": {}
      },
      "cell_type": "code",
      "source": [
        "# Load the Preprocessed Validation data\n",
        "valid_features, valid_labels = pickle.load(open('preprocess_validation.p', mode='rb'))"
      ],
      "execution_count": 0,
      "outputs": []
    },
    {
      "metadata": {
        "id": "nKbmyJHQL3Zi",
        "colab_type": "text"
      },
      "cell_type": "markdown",
      "source": [
        "#Build the network\n",
        "#Input"
      ]
    },
    {
      "metadata": {
        "id": "TGUrI9flQpmv",
        "colab_type": "code",
        "colab": {
          "base_uri": "https://localhost:8080/",
          "height": 68
        },
        "outputId": "445cc803-44b8-4ea2-c479-ec2d4cc51680"
      },
      "cell_type": "code",
      "source": [
        "import tensorflow as tf\n",
        "\n",
        "def neural_net_image_input(image_shape):\n",
        "    \"\"\"\n",
        "    Return a Tensor for a batch of image input\n",
        "    : image_shape: Shape of the images\n",
        "    : return: Tensor for image input.\n",
        "    \"\"\"\n",
        "    return tf.placeholder(tf.float32, shape=[None, *image_shape], name = \"x\")\n",
        "\n",
        "\n",
        "def neural_net_label_input(n_classes):\n",
        "    \"\"\"\n",
        "    Return a Tensor for a batch of label input\n",
        "    : n_classes: Number of classes\n",
        "    : return: Tensor for label input.\n",
        "    \"\"\"\n",
        "    return tf.placeholder(tf.float32, shape=[None, n_classes], name = \"y\")\n",
        "\n",
        "\n",
        "def neural_net_keep_prob_input():\n",
        "    \"\"\"\n",
        "    Return a Tensor for keep probability\n",
        "    : return: Tensor for keep probability.\n",
        "    \"\"\"\n",
        "    return tf.placeholder(tf.float32, name=\"keep_prob\")\n",
        "\n",
        "  \n",
        "tf.reset_default_graph()\n",
        "test_nn_image_inputs(neural_net_image_input)\n",
        "test_nn_label_inputs(neural_net_label_input)\n",
        "test_nn_keep_prob_inputs(neural_net_keep_prob_input)"
      ],
      "execution_count": 15,
      "outputs": [
        {
          "output_type": "stream",
          "text": [
            "Image Input Tests Passed.\n",
            "Label Input Tests Passed.\n",
            "Keep Prob Tests Passed.\n"
          ],
          "name": "stdout"
        }
      ]
    },
    {
      "metadata": {
        "id": "DxHIVOQ_MC_D",
        "colab_type": "text"
      },
      "cell_type": "markdown",
      "source": [
        "#Convolution and Max Pooling Layer\n",
        "Convolution layers have a lot of success with images. For this code cell, you should implement the function conv2d_maxpool to apply convolution then max pooling:\n",
        "\n",
        "--Create the weight and bias using conv_ksize, conv_num_outputs and the shape of x_tensor.\n",
        "--Apply a convolution to x_tensor using weight and conv_strides.\n",
        "--use same padding, but you're welcome to use any padding.\n",
        "--Add bias\n",
        "--Add a nonlinear activation to the convolution.\n",
        "--Apply Max Pooling using pool_ksize and pool_strides."
      ]
    },
    {
      "metadata": {
        "id": "XLKHrSLmQ39y",
        "colab_type": "code",
        "colab": {
          "base_uri": "https://localhost:8080/",
          "height": 34
        },
        "outputId": "36f437ff-2fac-47e4-9713-421354d45ff3"
      },
      "cell_type": "code",
      "source": [
        "def conv2d_maxpool(x_tensor, conv_num_outputs, conv_ksize, conv_strides, pool_ksize, pool_strides):\n",
        "    \"\"\"\n",
        "    Apply convolution then max pooling to x_tensor\n",
        "    :param x_tensor: TensorFlow Tensor\n",
        "    :param conv_num_outputs: Number of outputs for the convolutional layer\n",
        "    :param conv_ksize: kernal size 2-D Tuple for the convolutional layer\n",
        "    :param conv_strides: Stride 2-D Tuple for convolution\n",
        "    :param pool_ksize: kernal size 2-D Tuple for pool\n",
        "    :param pool_strides: Stride 2-D Tuple for pool\n",
        "    : return: A tensor that represents convolution and max pooling of x_tensor\n",
        "    \"\"\"\n",
        "    # x_tensor.get_shape()\n",
        "    # >> (?, 32, 32, 5)\n",
        "    input_depth = x_tensor.shape[-1].value\n",
        "\n",
        "    weights = tf.Variable(\n",
        "        tf.truncated_normal(\n",
        "            shape=[\n",
        "                conv_ksize[0], # height\n",
        "                conv_ksize[1], # width\n",
        "                input_depth, # input_depth\n",
        "                conv_num_outputs # out_depth\n",
        "            ], \n",
        "            mean=0.0,\n",
        "            stddev=0.1\n",
        "        ),\n",
        "        name='weights'\n",
        "    )\n",
        "    bias = tf.Variable(tf.zeros(conv_num_outputs), trainable=True)\n",
        "    \n",
        "    # Apply a convolution to x_tensor using weight and conv_strides\n",
        "    conv_layer = tf.nn.conv2d(\n",
        "        x_tensor, \n",
        "        weights, \n",
        "        strides=[1, *conv_strides, 1], \n",
        "        padding='SAME'\n",
        "    )\n",
        "    \n",
        "    # Add bias\n",
        "    conv_layer = tf.nn.bias_add(conv_layer, bias)\n",
        "    \n",
        "    # Add a nonlinear activation to the convolution\n",
        "    conv_layer = tf.nn.relu(conv_layer)\n",
        "    \n",
        "    # Apply Max Pooling using pool_ksize and pool_strides\n",
        "    conv_layer = tf.nn.max_pool(\n",
        "        conv_layer, \n",
        "        ksize=[1, *pool_ksize, 1], \n",
        "        strides=[1, *pool_strides, 1], \n",
        "        padding='SAME'\n",
        "    )\n",
        "    \n",
        "    return conv_layer \n",
        "test_con_pool(conv2d_maxpool)"
      ],
      "execution_count": 16,
      "outputs": [
        {
          "output_type": "stream",
          "text": [
            "Tests Passed\n"
          ],
          "name": "stdout"
        }
      ]
    },
    {
      "metadata": {
        "id": "1jUFg2G6MGIS",
        "colab_type": "text"
      },
      "cell_type": "markdown",
      "source": [
        "#Flatten Layer\n",
        "Implementing the flatten function to change the dimension of x_tensor from a 4-D tensor to a 2-D tensor. The output should be the shape (Batch Size, Flattened Image Size). "
      ]
    },
    {
      "metadata": {
        "id": "WGreZ89FROyF",
        "colab_type": "code",
        "colab": {
          "base_uri": "https://localhost:8080/",
          "height": 34
        },
        "outputId": "0d22b7a8-0e7b-47a1-9798-6a10b7000b92"
      },
      "cell_type": "code",
      "source": [
        "def flatten(x_tensor):\n",
        "    \"\"\"\n",
        "    Flatten x_tensor to (Batch Size, Flattened Image Size)\n",
        "    : x_tensor: A tensor of size (Batch Size, ...), where ... are the image dimensions.\n",
        "    : return: A tensor of size (Batch Size, Flattened Image Size).\n",
        "    \"\"\"\n",
        "    # print(x_tensor.get_shape()[1:4].num_elements())\n",
        "    return tf.reshape(x_tensor, [-1, x_tensor.get_shape()[1:4].num_elements()])\n",
        "\n",
        "\n",
        "test_flatten(flatten)"
      ],
      "execution_count": 17,
      "outputs": [
        {
          "output_type": "stream",
          "text": [
            "Tests Passed\n"
          ],
          "name": "stdout"
        }
      ]
    },
    {
      "metadata": {
        "id": "I2odnXyiMsox",
        "colab_type": "text"
      },
      "cell_type": "markdown",
      "source": [
        "#Fully-Connected Layer\n",
        "Implement the fully_conn function to apply a fully connected layer to x_tensor with the shape (Batch Size, num_outputs)."
      ]
    },
    {
      "metadata": {
        "id": "Z3nzV-3mRVty",
        "colab_type": "code",
        "colab": {
          "base_uri": "https://localhost:8080/",
          "height": 34
        },
        "outputId": "db4cd813-21a6-4491-d31e-8b3b7bb4aec0"
      },
      "cell_type": "code",
      "source": [
        "def fully_conn(x_tensor, num_outputs):\n",
        "    \"\"\"\n",
        "    Apply a fully connected layer to x_tensor using weight and bias\n",
        "    : x_tensor: A 2-D tensor where the first dimension is batch size.\n",
        "    : num_outputs: The number of output that the new tensor should be.\n",
        "    : return: A 2-D tensor where the second dimension is num_outputs.\n",
        "    \"\"\"\n",
        "    batch_size = x_tensor.shape[1].value\n",
        "    weights = tf.Variable(\n",
        "        tf.truncated_normal(\n",
        "            [batch_size, num_outputs],\n",
        "            mean = 0,\n",
        "            stddev=0.1)\n",
        "    )\n",
        "    bias = tf.Variable(tf.zeros(num_outputs))\n",
        "\n",
        "    fully_conn_layer = tf.matmul(x_tensor, weights)\n",
        "    fully_conn_layer = tf.nn.bias_add(fully_conn_layer, bias)\n",
        "    fully_conn_layer = tf.nn.relu(fully_conn_layer)\n",
        "\n",
        "    return fully_conn_layer\n",
        "\n",
        "test_fully_conn(fully_conn)"
      ],
      "execution_count": 18,
      "outputs": [
        {
          "output_type": "stream",
          "text": [
            "Tests Passed\n"
          ],
          "name": "stdout"
        }
      ]
    },
    {
      "metadata": {
        "id": "wgk_007CM0Q4",
        "colab_type": "text"
      },
      "cell_type": "markdown",
      "source": [
        "#Output Layer\n",
        "Implement the output function to apply a fully connected layer to x_tensor with the shape (Batch Size, num_outputs)."
      ]
    },
    {
      "metadata": {
        "id": "K4A8hR1tReaZ",
        "colab_type": "code",
        "colab": {
          "base_uri": "https://localhost:8080/",
          "height": 34
        },
        "outputId": "966d5482-14bd-4f73-e779-18adc5ee3814"
      },
      "cell_type": "code",
      "source": [
        "def output(x_tensor, num_outputs):\n",
        "    \"\"\"\n",
        "    Apply a output layer to x_tensor using weight and bias\n",
        "    : x_tensor: A 2-D tensor where the first dimension is batch size.\n",
        "    : num_outputs: The number of output that the new tensor should be.\n",
        "    : return: A 2-D tensor where the second dimension is num_outputs.\n",
        "    \"\"\"\n",
        "    batch_size = x_tensor.shape[1].value\n",
        "    weights = tf.Variable(\n",
        "        tf.truncated_normal(\n",
        "            [batch_size, num_outputs],\n",
        "            mean = 0,\n",
        "            stddev=0.1)\n",
        "    )\n",
        "    bias = tf.Variable(tf.zeros(num_outputs))\n",
        "    \n",
        "    output_layer = tf.matmul(x_tensor, weights)\n",
        "    output_layer = tf.nn.bias_add(output_layer, bias)\n",
        "    \n",
        "    return output_layer\n",
        "\n",
        "test_output(output)"
      ],
      "execution_count": 19,
      "outputs": [
        {
          "output_type": "stream",
          "text": [
            "Tests Passed\n"
          ],
          "name": "stdout"
        }
      ]
    },
    {
      "metadata": {
        "id": "d7iB2JJhM8y3",
        "colab_type": "text"
      },
      "cell_type": "markdown",
      "source": [
        "#Create Convolutional Model\n",
        "Implement the function conv_net to create a convolutional neural network model. The function takes in a batch of images, x, and outputs logits. Use the layers you created above to create this model:\n",
        "\n",
        "---Apply 1, 2, or 3 Convolution and Max Pool layers\n",
        "---Apply a Flatten Layer\n",
        "---Apply 1, 2, or 3 Fully Connected Layers\n",
        "---Apply an Output Layer\n",
        "---Return the output\n",
        "---Apply TensorFlow's Dropout to one or more layers in the model using keep_prob."
      ]
    },
    {
      "metadata": {
        "id": "xbSc-SB6RlcL",
        "colab_type": "code",
        "colab": {
          "base_uri": "https://localhost:8080/",
          "height": 34
        },
        "outputId": "1e2d6772-f26b-4e90-f375-dad8bb6da80b"
      },
      "cell_type": "code",
      "source": [
        "def conv_net(x, keep_prob):\n",
        "    \"\"\"\n",
        "    Create a convolutional neural network model\n",
        "    : x: Placeholder tensor that holds image data.\n",
        "    : keep_prob: Placeholder tensor that hold dropout keep probability.\n",
        "    : return: Tensor that represents logits\n",
        "    \"\"\"\n",
        "    conv_num_outputs_layer1 = 32\n",
        "    conv_num_outputs_layer2 = 64\n",
        "    conv_num_outputs_layer3 = 128\n",
        "    fully_conn_num_outputs_layer_1 = 256\n",
        "    fully_conn_num_outputs_layer_2 = 512\n",
        "    conv_ksize = (5, 5)\n",
        "    conv_strides = (1, 1)\n",
        "    pool_ksize = (2, 2)\n",
        "    pool_strides = (2, 2)\n",
        "    \n",
        "    common_params = [conv_ksize, conv_strides, pool_ksize, pool_strides]\n",
        "    \n",
        "    # Apply 1, 2, or 3 Convolution and Max Pool layers\n",
        "    conv_layer_1 = conv2d_maxpool(x, conv_num_outputs_layer1, *common_params)\n",
        "    conv_layer_1 = tf.nn.dropout(conv_layer_1, keep_prob)\n",
        "    \n",
        "    conv_layer_2 = conv2d_maxpool(conv_layer_1, conv_num_outputs_layer2, *common_params)\n",
        "    conv_layer_2 = tf.nn.dropout(conv_layer_2, keep_prob)\n",
        "    \n",
        "    conv_layer_3 = conv2d_maxpool(conv_layer_2, conv_num_outputs_layer3, *common_params)\n",
        "    conv_layer_3 = tf.nn.dropout(conv_layer_3, keep_prob)\n",
        "    \n",
        "    # Apply a Flatten Layer\n",
        "    flatten_layer_1 = flatten(conv_layer_3)\n",
        "\n",
        "    # Apply 1, 2, or 3 Fully Connected Layers\n",
        "    fully_conn_layer_1 = fully_conn(flatten_layer_1, fully_conn_num_outputs_layer_1)\n",
        "    fully_conn_layer_1 = tf.nn.dropout(fully_conn_layer_1, keep_prob)\n",
        "    fully_conn_layer_2 = fully_conn(flatten_layer_1, fully_conn_num_outputs_layer_2)\n",
        "    fully_conn_layer_2 = tf.nn.dropout(fully_conn_layer_2, keep_prob)\n",
        "    \n",
        "    \n",
        "    # Apply an Output Layer\n",
        "    num_outputs = 10 # 10 classes\n",
        "    output_layer = output(fully_conn_layer_2, num_outputs)\n",
        "    \n",
        "    return output_layer\n",
        "\n",
        "\n",
        "\n",
        "##############################\n",
        "## Build the Neural Network ##\n",
        "##############################\n",
        "\n",
        "# Remove previous weights, bias, inputs, etc..\n",
        "tf.reset_default_graph()\n",
        "\n",
        "# Inputs\n",
        "x = neural_net_image_input((32, 32, 3))\n",
        "y = neural_net_label_input(10)\n",
        "keep_prob = neural_net_keep_prob_input()\n",
        "\n",
        "# Model\n",
        "logits = conv_net(x, keep_prob)\n",
        "# Name logits Tensor, so that is can be loaded from disk after training\n",
        "logits = tf.identity(logits, name='logits')\n",
        "\n",
        "# Loss and Optimizer\n",
        "cost = tf.reduce_mean(tf.nn.softmax_cross_entropy_with_logits(logits=logits, labels=y))\n",
        "optimizer = tf.train.AdamOptimizer().minimize(cost)\n",
        "\n",
        "# Accuracy\n",
        "correct_pred = tf.equal(tf.argmax(logits, 1), tf.argmax(y, 1))\n",
        "accuracy = tf.reduce_mean(tf.cast(correct_pred, tf.float32), name='accuracy')\n",
        "\n",
        "test_conv_net(conv_net)\n",
        "\n",
        "\n"
      ],
      "execution_count": 21,
      "outputs": [
        {
          "output_type": "stream",
          "text": [
            "Neural Network Built!\n"
          ],
          "name": "stdout"
        }
      ]
    },
    {
      "metadata": {
        "id": "aW0C7wKANenx",
        "colab_type": "text"
      },
      "cell_type": "markdown",
      "source": [
        "#Train the Neural Network\n",
        "#Single Optimization\n",
        "Implement the function train_neural_network to do a single optimization. The optimization should use optimizer to optimize in session with a feed_dict of the following:\n",
        "\n",
        "---x for image input\n",
        "---y for labels\n",
        "---keep_prob for keep probability for dropout\n",
        "---This function will be called for each batch, so tf.global_variables_initializer() has already been called."
      ]
    },
    {
      "metadata": {
        "id": "oH3YOICTR5qV",
        "colab_type": "code",
        "colab": {
          "base_uri": "https://localhost:8080/",
          "height": 34
        },
        "outputId": "64910837-deb3-4004-8735-951652b7312b"
      },
      "cell_type": "code",
      "source": [
        "def train_neural_network(session, optimizer, keep_probability, feature_batch, label_batch):\n",
        "    \"\"\"\n",
        "    Optimize the session on a batch of images and labels\n",
        "    : session: Current TensorFlow session\n",
        "    : optimizer: TensorFlow optimizer function\n",
        "    : keep_probability: keep probability\n",
        "    : feature_batch: Batch of Numpy image data\n",
        "    : label_batch: Batch of Numpy label data\n",
        "    \"\"\"\n",
        "    session.run(optimizer, feed_dict={x: feature_batch, y: label_batch, keep_prob: keep_probability})\n",
        "\n",
        "test_train_nn(train_neural_network)"
      ],
      "execution_count": 22,
      "outputs": [
        {
          "output_type": "stream",
          "text": [
            "Tests Passed\n"
          ],
          "name": "stdout"
        }
      ]
    },
    {
      "metadata": {
        "id": "F_kXTV3bNt5S",
        "colab_type": "text"
      },
      "cell_type": "markdown",
      "source": [
        "#Show Stats\n",
        "Implement the function print_stats to print loss and validation accuracy. Use the global variables valid_features and valid_labels to calculate validation accuracy. Use a keep probability of 1.0 to calculate the loss and validation accuracy."
      ]
    },
    {
      "metadata": {
        "id": "CSHpc-8uR_i0",
        "colab_type": "code",
        "colab": {}
      },
      "cell_type": "code",
      "source": [
        "def print_stats(session, feature_batch, label_batch, cost, accuracy):\n",
        "    \"\"\"\n",
        "    Print information about loss and validation accuracy\n",
        "    : session: Current TensorFlow session\n",
        "    : feature_batch: Batch of Numpy image data\n",
        "    : label_batch: Batch of Numpy label data\n",
        "    : cost: TensorFlow cost function\n",
        "    : accuracy: TensorFlow accuracy function\n",
        "    \"\"\"\n",
        "    loss = session.run(cost, feed_dict={x: feature_batch, y: label_batch, keep_prob: 1.0})\n",
        "    accuracy = session.run(accuracy, feed_dict={x: valid_features, y: valid_labels, keep_prob: 1.0})\n",
        "    print(\"Loss: {} Accuracy: {}\".format(loss, accuracy))"
      ],
      "execution_count": 0,
      "outputs": []
    },
    {
      "metadata": {
        "id": "u1CZJh7ZNxKl",
        "colab_type": "text"
      },
      "cell_type": "markdown",
      "source": [
        "#Hyperparameters"
      ]
    },
    {
      "metadata": {
        "id": "qB_GKtfpSE7s",
        "colab_type": "code",
        "colab": {}
      },
      "cell_type": "code",
      "source": [
        "# TODO: Tune Parameters\n",
        "epochs = 35\n",
        "batch_size = 128\n",
        "keep_probability = 0.75"
      ],
      "execution_count": 0,
      "outputs": []
    },
    {
      "metadata": {
        "id": "-uARXEhLN2EA",
        "colab_type": "text"
      },
      "cell_type": "markdown",
      "source": [
        "#Train on a Single CIFAR-10 Batch"
      ]
    },
    {
      "metadata": {
        "id": "smahesn_SIp2",
        "colab_type": "code",
        "colab": {
          "base_uri": "https://localhost:8080/",
          "height": 629
        },
        "outputId": "2895efa0-cffd-4f74-d172-7af09e9623c3"
      },
      "cell_type": "code",
      "source": [
        "print('Checking the Training on a Single Batch...')\n",
        "with tf.Session() as sess:\n",
        "    # Initializing the variables\n",
        "    sess.run(tf.global_variables_initializer())\n",
        "    \n",
        "    # Training cycle\n",
        "    for epoch in range(epochs):\n",
        "        batch_i = 1\n",
        "        for batch_features, batch_labels in load_preprocess_training_batch(batch_i, batch_size):\n",
        "            train_neural_network(sess, optimizer, keep_probability, batch_features, batch_labels)\n",
        "        print('Epoch {:>2}, CIFAR-10 Batch {}:  '.format(epoch + 1, batch_i), end='')\n",
        "        print_stats(sess, batch_features, batch_labels, cost, accuracy)\n",
        "        \n",
        "        \n",
        "        \n",
        "       "
      ],
      "execution_count": 26,
      "outputs": [
        {
          "output_type": "stream",
          "text": [
            "Checking the Training on a Single Batch...\n",
            "Epoch  1, CIFAR-10 Batch 1:  Loss: 2.20892333984375 Accuracy: 0.2476000040769577\n",
            "Epoch  2, CIFAR-10 Batch 1:  Loss: 1.9704746007919312 Accuracy: 0.3668000102043152\n",
            "Epoch  3, CIFAR-10 Batch 1:  Loss: 1.8481582403182983 Accuracy: 0.4052000045776367\n",
            "Epoch  4, CIFAR-10 Batch 1:  Loss: 1.7085129022598267 Accuracy: 0.42340001463890076\n",
            "Epoch  5, CIFAR-10 Batch 1:  Loss: 1.5978643894195557 Accuracy: 0.453000009059906\n",
            "Epoch  6, CIFAR-10 Batch 1:  Loss: 1.4473758935928345 Accuracy: 0.46619999408721924\n",
            "Epoch  7, CIFAR-10 Batch 1:  Loss: 1.3690979480743408 Accuracy: 0.47920000553131104\n",
            "Epoch  8, CIFAR-10 Batch 1:  Loss: 1.2559802532196045 Accuracy: 0.5044000148773193\n",
            "Epoch  9, CIFAR-10 Batch 1:  Loss: 1.2660491466522217 Accuracy: 0.5022000074386597\n",
            "Epoch 10, CIFAR-10 Batch 1:  Loss: 1.0980839729309082 Accuracy: 0.5180000066757202\n",
            "Epoch 11, CIFAR-10 Batch 1:  Loss: 1.0543686151504517 Accuracy: 0.527999997138977\n",
            "Epoch 12, CIFAR-10 Batch 1:  Loss: 0.9794113039970398 Accuracy: 0.5414000153541565\n",
            "Epoch 13, CIFAR-10 Batch 1:  Loss: 0.9334124326705933 Accuracy: 0.550000011920929\n",
            "Epoch 14, CIFAR-10 Batch 1:  Loss: 0.8392101526260376 Accuracy: 0.5547999739646912\n",
            "Epoch 15, CIFAR-10 Batch 1:  Loss: 0.8232203722000122 Accuracy: 0.5595999956130981\n",
            "Epoch 16, CIFAR-10 Batch 1:  Loss: 0.7566943168640137 Accuracy: 0.5680000185966492\n",
            "Epoch 17, CIFAR-10 Batch 1:  Loss: 0.7867633104324341 Accuracy: 0.5537999868392944\n",
            "Epoch 18, CIFAR-10 Batch 1:  Loss: 0.6072322130203247 Accuracy: 0.5821999907493591\n",
            "Epoch 19, CIFAR-10 Batch 1:  Loss: 0.6334916353225708 Accuracy: 0.5748000144958496\n",
            "Epoch 20, CIFAR-10 Batch 1:  Loss: 0.5557417273521423 Accuracy: 0.5917999744415283\n",
            "Epoch 21, CIFAR-10 Batch 1:  Loss: 0.593065619468689 Accuracy: 0.58160001039505\n",
            "Epoch 22, CIFAR-10 Batch 1:  Loss: 0.4850475788116455 Accuracy: 0.5916000008583069\n",
            "Epoch 23, CIFAR-10 Batch 1:  Loss: 0.44289737939834595 Accuracy: 0.5932000279426575\n",
            "Epoch 24, CIFAR-10 Batch 1:  Loss: 0.3804070055484772 Accuracy: 0.6000000238418579\n",
            "Epoch 25, CIFAR-10 Batch 1:  Loss: 0.3447142541408539 Accuracy: 0.6141999959945679\n",
            "Epoch 26, CIFAR-10 Batch 1:  Loss: 0.30626723170280457 Accuracy: 0.621999979019165\n",
            "Epoch 27, CIFAR-10 Batch 1:  Loss: 0.2738483250141144 Accuracy: 0.6083999872207642\n",
            "Epoch 28, CIFAR-10 Batch 1:  Loss: 0.20571616291999817 Accuracy: 0.6222000122070312\n",
            "Epoch 29, CIFAR-10 Batch 1:  Loss: 0.21926212310791016 Accuracy: 0.620199978351593\n",
            "Epoch 30, CIFAR-10 Batch 1:  Loss: 0.1427173912525177 Accuracy: 0.6327999830245972\n",
            "Epoch 31, CIFAR-10 Batch 1:  Loss: 0.16988587379455566 Accuracy: 0.6442000269889832\n",
            "Epoch 32, CIFAR-10 Batch 1:  Loss: 0.15733620524406433 Accuracy: 0.6425999999046326\n",
            "Epoch 33, CIFAR-10 Batch 1:  Loss: 0.1147436872124672 Accuracy: 0.6394000053405762\n",
            "Epoch 34, CIFAR-10 Batch 1:  Loss: 0.10811755806207657 Accuracy: 0.6439999938011169\n",
            "Epoch 35, CIFAR-10 Batch 1:  Loss: 0.09570830315351486 Accuracy: 0.6355999708175659\n"
          ],
          "name": "stdout"
        }
      ]
    },
    {
      "metadata": {
        "id": "oLg0znVWN9Je",
        "colab_type": "text"
      },
      "cell_type": "markdown",
      "source": [
        "#Fully Train the Model"
      ]
    },
    {
      "metadata": {
        "id": "xlI00gspcQoP",
        "colab_type": "code",
        "colab": {
          "base_uri": "https://localhost:8080/",
          "height": 3009
        },
        "outputId": "a791a5ff-b49e-4340-9ddf-11dcf65492c6"
      },
      "cell_type": "code",
      "source": [
        "save_model_path = './image_classification'\n",
        "\n",
        "print('Training...')\n",
        "with tf.Session() as sess:\n",
        "    # Initializing the variables\n",
        "    sess.run(tf.global_variables_initializer())\n",
        "    \n",
        "    # Training cycle\n",
        "    for epoch in range(epochs):\n",
        "        # Loop over all batches\n",
        "        n_batches = 5\n",
        "        for batch_i in range(1, n_batches + 1):\n",
        "            for batch_features, batch_labels in load_preprocess_training_batch(batch_i, batch_size):\n",
        "                train_neural_network(sess, optimizer, keep_probability, batch_features, batch_labels)\n",
        "            print('Epoch {:>2}, CIFAR-10 Batch {}:  '.format(epoch + 1, batch_i), end='')\n",
        "            print_stats(sess, batch_features, batch_labels, cost, accuracy)\n",
        "            \n",
        "    # Save Model\n",
        "    saver = tf.train.Saver()\n",
        "    save_path = saver.save(sess, save_model_path)"
      ],
      "execution_count": 27,
      "outputs": [
        {
          "output_type": "stream",
          "text": [
            "Training...\n",
            "Epoch  1, CIFAR-10 Batch 1:  Loss: 2.2124199867248535 Accuracy: 0.21040000021457672\n",
            "Epoch  1, CIFAR-10 Batch 2:  Loss: 2.061746597290039 Accuracy: 0.3142000138759613\n",
            "Epoch  1, CIFAR-10 Batch 3:  Loss: 1.6801704168319702 Accuracy: 0.35740000009536743\n",
            "Epoch  1, CIFAR-10 Batch 4:  Loss: 1.730249047279358 Accuracy: 0.4023999869823456\n",
            "Epoch  1, CIFAR-10 Batch 5:  Loss: 1.7177143096923828 Accuracy: 0.4036000072956085\n",
            "Epoch  2, CIFAR-10 Batch 1:  Loss: 1.7214339971542358 Accuracy: 0.4472000002861023\n",
            "Epoch  2, CIFAR-10 Batch 2:  Loss: 1.5520470142364502 Accuracy: 0.4212000072002411\n",
            "Epoch  2, CIFAR-10 Batch 3:  Loss: 1.3437557220458984 Accuracy: 0.46959999203681946\n",
            "Epoch  2, CIFAR-10 Batch 4:  Loss: 1.5267083644866943 Accuracy: 0.4848000109195709\n",
            "Epoch  2, CIFAR-10 Batch 5:  Loss: 1.4107539653778076 Accuracy: 0.49160000681877136\n",
            "Epoch  3, CIFAR-10 Batch 1:  Loss: 1.5365463495254517 Accuracy: 0.5013999938964844\n",
            "Epoch  3, CIFAR-10 Batch 2:  Loss: 1.3846639394760132 Accuracy: 0.5052000284194946\n",
            "Epoch  3, CIFAR-10 Batch 3:  Loss: 1.2084951400756836 Accuracy: 0.5098000168800354\n",
            "Epoch  3, CIFAR-10 Batch 4:  Loss: 1.3442469835281372 Accuracy: 0.525600016117096\n",
            "Epoch  3, CIFAR-10 Batch 5:  Loss: 1.2264702320098877 Accuracy: 0.5289999842643738\n",
            "Epoch  4, CIFAR-10 Batch 1:  Loss: 1.3549234867095947 Accuracy: 0.5482000112533569\n",
            "Epoch  4, CIFAR-10 Batch 2:  Loss: 1.2558605670928955 Accuracy: 0.5378000140190125\n",
            "Epoch  4, CIFAR-10 Batch 3:  Loss: 1.0851716995239258 Accuracy: 0.5529999732971191\n",
            "Epoch  4, CIFAR-10 Batch 4:  Loss: 1.2155508995056152 Accuracy: 0.5726000070571899\n",
            "Epoch  4, CIFAR-10 Batch 5:  Loss: 1.1258246898651123 Accuracy: 0.569599986076355\n",
            "Epoch  5, CIFAR-10 Batch 1:  Loss: 1.1647049188613892 Accuracy: 0.5857999920845032\n",
            "Epoch  5, CIFAR-10 Batch 2:  Loss: 1.1590251922607422 Accuracy: 0.5641999840736389\n",
            "Epoch  5, CIFAR-10 Batch 3:  Loss: 0.946816086769104 Accuracy: 0.5983999967575073\n",
            "Epoch  5, CIFAR-10 Batch 4:  Loss: 1.09514582157135 Accuracy: 0.592199981212616\n",
            "Epoch  5, CIFAR-10 Batch 5:  Loss: 0.9893781542778015 Accuracy: 0.5861999988555908\n",
            "Epoch  6, CIFAR-10 Batch 1:  Loss: 1.0441620349884033 Accuracy: 0.6101999878883362\n",
            "Epoch  6, CIFAR-10 Batch 2:  Loss: 1.05060613155365 Accuracy: 0.6197999715805054\n",
            "Epoch  6, CIFAR-10 Batch 3:  Loss: 0.7911383509635925 Accuracy: 0.618399977684021\n",
            "Epoch  6, CIFAR-10 Batch 4:  Loss: 0.9102304577827454 Accuracy: 0.6176000237464905\n",
            "Epoch  6, CIFAR-10 Batch 5:  Loss: 0.8468788266181946 Accuracy: 0.6164000034332275\n",
            "Epoch  7, CIFAR-10 Batch 1:  Loss: 0.8722322583198547 Accuracy: 0.6317999958992004\n",
            "Epoch  7, CIFAR-10 Batch 2:  Loss: 0.8984464406967163 Accuracy: 0.6366000175476074\n",
            "Epoch  7, CIFAR-10 Batch 3:  Loss: 0.6835623383522034 Accuracy: 0.6517999768257141\n",
            "Epoch  7, CIFAR-10 Batch 4:  Loss: 0.8326863050460815 Accuracy: 0.6340000033378601\n",
            "Epoch  7, CIFAR-10 Batch 5:  Loss: 0.7025514841079712 Accuracy: 0.6417999863624573\n",
            "Epoch  8, CIFAR-10 Batch 1:  Loss: 0.7746216058731079 Accuracy: 0.6675999760627747\n",
            "Epoch  8, CIFAR-10 Batch 2:  Loss: 0.7392587661743164 Accuracy: 0.6547999978065491\n",
            "Epoch  8, CIFAR-10 Batch 3:  Loss: 0.570208728313446 Accuracy: 0.6686000227928162\n",
            "Epoch  8, CIFAR-10 Batch 4:  Loss: 0.7725287675857544 Accuracy: 0.6424000263214111\n",
            "Epoch  8, CIFAR-10 Batch 5:  Loss: 0.6108640432357788 Accuracy: 0.6639999747276306\n",
            "Epoch  9, CIFAR-10 Batch 1:  Loss: 0.7130831480026245 Accuracy: 0.6880000233650208\n",
            "Epoch  9, CIFAR-10 Batch 2:  Loss: 0.7166434526443481 Accuracy: 0.6714000105857849\n",
            "Epoch  9, CIFAR-10 Batch 3:  Loss: 0.491093248128891 Accuracy: 0.6765999794006348\n",
            "Epoch  9, CIFAR-10 Batch 4:  Loss: 0.5791863799095154 Accuracy: 0.6836000084877014\n",
            "Epoch  9, CIFAR-10 Batch 5:  Loss: 0.5634474754333496 Accuracy: 0.6773999929428101\n",
            "Epoch 10, CIFAR-10 Batch 1:  Loss: 0.604119598865509 Accuracy: 0.692799985408783\n",
            "Epoch 10, CIFAR-10 Batch 2:  Loss: 0.619503378868103 Accuracy: 0.6761999726295471\n",
            "Epoch 10, CIFAR-10 Batch 3:  Loss: 0.4895329475402832 Accuracy: 0.6959999799728394\n",
            "Epoch 10, CIFAR-10 Batch 4:  Loss: 0.5457952618598938 Accuracy: 0.6985999941825867\n",
            "Epoch 10, CIFAR-10 Batch 5:  Loss: 0.5272444486618042 Accuracy: 0.6837999820709229\n",
            "Epoch 11, CIFAR-10 Batch 1:  Loss: 0.49740880727767944 Accuracy: 0.7080000042915344\n",
            "Epoch 11, CIFAR-10 Batch 2:  Loss: 0.4858178496360779 Accuracy: 0.7192000150680542\n",
            "Epoch 11, CIFAR-10 Batch 3:  Loss: 0.47219887375831604 Accuracy: 0.7008000016212463\n",
            "Epoch 11, CIFAR-10 Batch 4:  Loss: 0.5598179697990417 Accuracy: 0.7074000239372253\n",
            "Epoch 11, CIFAR-10 Batch 5:  Loss: 0.43731850385665894 Accuracy: 0.6998000144958496\n",
            "Epoch 12, CIFAR-10 Batch 1:  Loss: 0.5256556868553162 Accuracy: 0.7170000076293945\n",
            "Epoch 12, CIFAR-10 Batch 2:  Loss: 0.4475504755973816 Accuracy: 0.6899999976158142\n",
            "Epoch 12, CIFAR-10 Batch 3:  Loss: 0.3913783133029938 Accuracy: 0.7203999757766724\n",
            "Epoch 12, CIFAR-10 Batch 4:  Loss: 0.46663421392440796 Accuracy: 0.7093999981880188\n",
            "Epoch 12, CIFAR-10 Batch 5:  Loss: 0.36750203371047974 Accuracy: 0.7128000259399414\n",
            "Epoch 13, CIFAR-10 Batch 1:  Loss: 0.4192849099636078 Accuracy: 0.7020000219345093\n",
            "Epoch 13, CIFAR-10 Batch 2:  Loss: 0.3840900659561157 Accuracy: 0.7113999724388123\n",
            "Epoch 13, CIFAR-10 Batch 3:  Loss: 0.3411487936973572 Accuracy: 0.7301999926567078\n",
            "Epoch 13, CIFAR-10 Batch 4:  Loss: 0.4016762375831604 Accuracy: 0.7229999899864197\n",
            "Epoch 13, CIFAR-10 Batch 5:  Loss: 0.4060140550136566 Accuracy: 0.7106000185012817\n",
            "Epoch 14, CIFAR-10 Batch 1:  Loss: 0.3772393763065338 Accuracy: 0.7282000184059143\n",
            "Epoch 14, CIFAR-10 Batch 2:  Loss: 0.30342021584510803 Accuracy: 0.7116000056266785\n",
            "Epoch 14, CIFAR-10 Batch 3:  Loss: 0.2588391900062561 Accuracy: 0.7396000027656555\n",
            "Epoch 14, CIFAR-10 Batch 4:  Loss: 0.3634253442287445 Accuracy: 0.7342000007629395\n",
            "Epoch 14, CIFAR-10 Batch 5:  Loss: 0.33448949456214905 Accuracy: 0.7337999939918518\n",
            "Epoch 15, CIFAR-10 Batch 1:  Loss: 0.3718131482601166 Accuracy: 0.725600004196167\n",
            "Epoch 15, CIFAR-10 Batch 2:  Loss: 0.23903191089630127 Accuracy: 0.7275999784469604\n",
            "Epoch 15, CIFAR-10 Batch 3:  Loss: 0.23361697793006897 Accuracy: 0.7432000041007996\n",
            "Epoch 15, CIFAR-10 Batch 4:  Loss: 0.2860364317893982 Accuracy: 0.715399980545044\n",
            "Epoch 15, CIFAR-10 Batch 5:  Loss: 0.3175317347049713 Accuracy: 0.7214000225067139\n",
            "Epoch 16, CIFAR-10 Batch 1:  Loss: 0.32229045033454895 Accuracy: 0.7382000088691711\n",
            "Epoch 16, CIFAR-10 Batch 2:  Loss: 0.20749683678150177 Accuracy: 0.7347999811172485\n",
            "Epoch 16, CIFAR-10 Batch 3:  Loss: 0.2330094277858734 Accuracy: 0.7278000116348267\n",
            "Epoch 16, CIFAR-10 Batch 4:  Loss: 0.24573931097984314 Accuracy: 0.7360000014305115\n",
            "Epoch 16, CIFAR-10 Batch 5:  Loss: 0.21586978435516357 Accuracy: 0.7494000196456909\n",
            "Epoch 17, CIFAR-10 Batch 1:  Loss: 0.2315814048051834 Accuracy: 0.73580002784729\n",
            "Epoch 17, CIFAR-10 Batch 2:  Loss: 0.22011741995811462 Accuracy: 0.7400000095367432\n",
            "Epoch 17, CIFAR-10 Batch 3:  Loss: 0.1745496541261673 Accuracy: 0.730400025844574\n",
            "Epoch 17, CIFAR-10 Batch 4:  Loss: 0.1864507496356964 Accuracy: 0.7516000270843506\n",
            "Epoch 17, CIFAR-10 Batch 5:  Loss: 0.21506324410438538 Accuracy: 0.7462000250816345\n",
            "Epoch 18, CIFAR-10 Batch 1:  Loss: 0.20893481373786926 Accuracy: 0.7477999925613403\n",
            "Epoch 18, CIFAR-10 Batch 2:  Loss: 0.1601913571357727 Accuracy: 0.746999979019165\n",
            "Epoch 18, CIFAR-10 Batch 3:  Loss: 0.17830513417720795 Accuracy: 0.7487999796867371\n",
            "Epoch 18, CIFAR-10 Batch 4:  Loss: 0.1796654462814331 Accuracy: 0.7473999857902527\n",
            "Epoch 18, CIFAR-10 Batch 5:  Loss: 0.2082788497209549 Accuracy: 0.7472000122070312\n",
            "Epoch 19, CIFAR-10 Batch 1:  Loss: 0.21132583916187286 Accuracy: 0.7603999972343445\n",
            "Epoch 19, CIFAR-10 Batch 2:  Loss: 0.13772694766521454 Accuracy: 0.7540000081062317\n",
            "Epoch 19, CIFAR-10 Batch 3:  Loss: 0.14331074059009552 Accuracy: 0.7473999857902527\n",
            "Epoch 19, CIFAR-10 Batch 4:  Loss: 0.15291230380535126 Accuracy: 0.7351999878883362\n",
            "Epoch 19, CIFAR-10 Batch 5:  Loss: 0.13185927271842957 Accuracy: 0.7573999762535095\n",
            "Epoch 20, CIFAR-10 Batch 1:  Loss: 0.20302680134773254 Accuracy: 0.7630000114440918\n",
            "Epoch 20, CIFAR-10 Batch 2:  Loss: 0.17106619477272034 Accuracy: 0.7473999857902527\n",
            "Epoch 20, CIFAR-10 Batch 3:  Loss: 0.15151648223400116 Accuracy: 0.7440000176429749\n",
            "Epoch 20, CIFAR-10 Batch 4:  Loss: 0.15011604130268097 Accuracy: 0.7513999938964844\n",
            "Epoch 20, CIFAR-10 Batch 5:  Loss: 0.16774654388427734 Accuracy: 0.7552000284194946\n",
            "Epoch 21, CIFAR-10 Batch 1:  Loss: 0.15066757798194885 Accuracy: 0.7508000135421753\n",
            "Epoch 21, CIFAR-10 Batch 2:  Loss: 0.09836168587207794 Accuracy: 0.7573999762535095\n",
            "Epoch 21, CIFAR-10 Batch 3:  Loss: 0.11359067261219025 Accuracy: 0.7419999837875366\n",
            "Epoch 21, CIFAR-10 Batch 4:  Loss: 0.11290726810693741 Accuracy: 0.7598000168800354\n",
            "Epoch 21, CIFAR-10 Batch 5:  Loss: 0.11194854974746704 Accuracy: 0.7639999985694885\n",
            "Epoch 22, CIFAR-10 Batch 1:  Loss: 0.13783740997314453 Accuracy: 0.7572000026702881\n",
            "Epoch 22, CIFAR-10 Batch 2:  Loss: 0.09378372132778168 Accuracy: 0.7598000168800354\n",
            "Epoch 22, CIFAR-10 Batch 3:  Loss: 0.11320779472589493 Accuracy: 0.7573999762535095\n",
            "Epoch 22, CIFAR-10 Batch 4:  Loss: 0.08670361340045929 Accuracy: 0.7531999945640564\n",
            "Epoch 22, CIFAR-10 Batch 5:  Loss: 0.0869503915309906 Accuracy: 0.7688000202178955\n",
            "Epoch 23, CIFAR-10 Batch 1:  Loss: 0.09242641925811768 Accuracy: 0.7675999999046326\n",
            "Epoch 23, CIFAR-10 Batch 2:  Loss: 0.09601390361785889 Accuracy: 0.754800021648407\n",
            "Epoch 23, CIFAR-10 Batch 3:  Loss: 0.07469023764133453 Accuracy: 0.7674000263214111\n",
            "Epoch 23, CIFAR-10 Batch 4:  Loss: 0.10427006334066391 Accuracy: 0.7555999755859375\n",
            "Epoch 23, CIFAR-10 Batch 5:  Loss: 0.10142912715673447 Accuracy: 0.7576000094413757\n",
            "Epoch 24, CIFAR-10 Batch 1:  Loss: 0.0769667848944664 Accuracy: 0.769599974155426\n",
            "Epoch 24, CIFAR-10 Batch 2:  Loss: 0.07273710519075394 Accuracy: 0.7684000134468079\n",
            "Epoch 24, CIFAR-10 Batch 3:  Loss: 0.08546242862939835 Accuracy: 0.7666000127792358\n",
            "Epoch 24, CIFAR-10 Batch 4:  Loss: 0.08614259958267212 Accuracy: 0.7630000114440918\n",
            "Epoch 24, CIFAR-10 Batch 5:  Loss: 0.08279046416282654 Accuracy: 0.7670000195503235\n",
            "Epoch 25, CIFAR-10 Batch 1:  Loss: 0.08793281018733978 Accuracy: 0.7698000073432922\n",
            "Epoch 25, CIFAR-10 Batch 2:  Loss: 0.04895571991801262 Accuracy: 0.7626000046730042\n",
            "Epoch 25, CIFAR-10 Batch 3:  Loss: 0.08369738608598709 Accuracy: 0.7540000081062317\n",
            "Epoch 25, CIFAR-10 Batch 4:  Loss: 0.11213812977075577 Accuracy: 0.76419997215271\n",
            "Epoch 25, CIFAR-10 Batch 5:  Loss: 0.06943809241056442 Accuracy: 0.7617999911308289\n",
            "Epoch 26, CIFAR-10 Batch 1:  Loss: 0.055236201733350754 Accuracy: 0.7739999890327454\n",
            "Epoch 26, CIFAR-10 Batch 2:  Loss: 0.059162892401218414 Accuracy: 0.7603999972343445\n",
            "Epoch 26, CIFAR-10 Batch 3:  Loss: 0.05526721477508545 Accuracy: 0.7630000114440918\n",
            "Epoch 26, CIFAR-10 Batch 4:  Loss: 0.08594802767038345 Accuracy: 0.76419997215271\n",
            "Epoch 26, CIFAR-10 Batch 5:  Loss: 0.04394357651472092 Accuracy: 0.7753999829292297\n",
            "Epoch 27, CIFAR-10 Batch 1:  Loss: 0.0843348577618599 Accuracy: 0.7778000235557556\n",
            "Epoch 27, CIFAR-10 Batch 2:  Loss: 0.08211050182580948 Accuracy: 0.7545999884605408\n",
            "Epoch 27, CIFAR-10 Batch 3:  Loss: 0.03627810627222061 Accuracy: 0.7605999708175659\n",
            "Epoch 27, CIFAR-10 Batch 4:  Loss: 0.0855141133069992 Accuracy: 0.7577999830245972\n",
            "Epoch 27, CIFAR-10 Batch 5:  Loss: 0.0415203832089901 Accuracy: 0.7702000141143799\n",
            "Epoch 28, CIFAR-10 Batch 1:  Loss: 0.05167924240231514 Accuracy: 0.7814000248908997\n",
            "Epoch 28, CIFAR-10 Batch 2:  Loss: 0.05364609882235527 Accuracy: 0.7554000020027161\n",
            "Epoch 28, CIFAR-10 Batch 3:  Loss: 0.03279127925634384 Accuracy: 0.7626000046730042\n",
            "Epoch 28, CIFAR-10 Batch 4:  Loss: 0.06973792612552643 Accuracy: 0.7559999823570251\n",
            "Epoch 28, CIFAR-10 Batch 5:  Loss: 0.04196916148066521 Accuracy: 0.7720000147819519\n",
            "Epoch 29, CIFAR-10 Batch 1:  Loss: 0.06206867843866348 Accuracy: 0.7730000019073486\n",
            "Epoch 29, CIFAR-10 Batch 2:  Loss: 0.0343996100127697 Accuracy: 0.7594000101089478\n",
            "Epoch 29, CIFAR-10 Batch 3:  Loss: 0.04036533460021019 Accuracy: 0.7742000222206116\n",
            "Epoch 29, CIFAR-10 Batch 4:  Loss: 0.03638497367501259 Accuracy: 0.7627999782562256\n",
            "Epoch 29, CIFAR-10 Batch 5:  Loss: 0.03290698677301407 Accuracy: 0.7612000107765198\n",
            "Epoch 30, CIFAR-10 Batch 1:  Loss: 0.04264260083436966 Accuracy: 0.7702000141143799\n",
            "Epoch 30, CIFAR-10 Batch 2:  Loss: 0.032449208199977875 Accuracy: 0.7591999769210815\n",
            "Epoch 30, CIFAR-10 Batch 3:  Loss: 0.026212677359580994 Accuracy: 0.7692000269889832\n",
            "Epoch 30, CIFAR-10 Batch 4:  Loss: 0.058672986924648285 Accuracy: 0.7613999843597412\n",
            "Epoch 30, CIFAR-10 Batch 5:  Loss: 0.041034944355487823 Accuracy: 0.777400016784668\n",
            "Epoch 31, CIFAR-10 Batch 1:  Loss: 0.04701904207468033 Accuracy: 0.7703999876976013\n",
            "Epoch 31, CIFAR-10 Batch 2:  Loss: 0.02863885834813118 Accuracy: 0.7717999815940857\n",
            "Epoch 31, CIFAR-10 Batch 3:  Loss: 0.030752157792448997 Accuracy: 0.7666000127792358\n",
            "Epoch 31, CIFAR-10 Batch 4:  Loss: 0.04294062778353691 Accuracy: 0.7833999991416931\n",
            "Epoch 31, CIFAR-10 Batch 5:  Loss: 0.04364626482129097 Accuracy: 0.7692000269889832\n",
            "Epoch 32, CIFAR-10 Batch 1:  Loss: 0.04265517741441727 Accuracy: 0.7766000032424927\n",
            "Epoch 32, CIFAR-10 Batch 2:  Loss: 0.023177091032266617 Accuracy: 0.7738000154495239\n",
            "Epoch 32, CIFAR-10 Batch 3:  Loss: 0.05998789146542549 Accuracy: 0.7680000066757202\n",
            "Epoch 32, CIFAR-10 Batch 4:  Loss: 0.03230956569314003 Accuracy: 0.7748000025749207\n",
            "Epoch 32, CIFAR-10 Batch 5:  Loss: 0.04881054908037186 Accuracy: 0.7620000243186951\n",
            "Epoch 33, CIFAR-10 Batch 1:  Loss: 0.029031643643975258 Accuracy: 0.7815999984741211\n",
            "Epoch 33, CIFAR-10 Batch 2:  Loss: 0.021313348785042763 Accuracy: 0.7662000060081482\n",
            "Epoch 33, CIFAR-10 Batch 3:  Loss: 0.03626087307929993 Accuracy: 0.7644000053405762\n",
            "Epoch 33, CIFAR-10 Batch 4:  Loss: 0.01995673216879368 Accuracy: 0.7694000005722046\n",
            "Epoch 33, CIFAR-10 Batch 5:  Loss: 0.048131030052900314 Accuracy: 0.7698000073432922\n",
            "Epoch 34, CIFAR-10 Batch 1:  Loss: 0.027219057083129883 Accuracy: 0.7752000093460083\n",
            "Epoch 34, CIFAR-10 Batch 2:  Loss: 0.03893410414457321 Accuracy: 0.767799973487854\n",
            "Epoch 34, CIFAR-10 Batch 3:  Loss: 0.02257743664085865 Accuracy: 0.7580000162124634\n",
            "Epoch 34, CIFAR-10 Batch 4:  Loss: 0.023594466969370842 Accuracy: 0.775600016117096\n",
            "Epoch 34, CIFAR-10 Batch 5:  Loss: 0.01790620945394039 Accuracy: 0.7716000080108643\n",
            "Epoch 35, CIFAR-10 Batch 1:  Loss: 0.021912455558776855 Accuracy: 0.7888000011444092\n",
            "Epoch 35, CIFAR-10 Batch 2:  Loss: 0.02390686236321926 Accuracy: 0.776199996471405\n",
            "Epoch 35, CIFAR-10 Batch 3:  Loss: 0.029186060652136803 Accuracy: 0.7598000168800354\n",
            "Epoch 35, CIFAR-10 Batch 4:  Loss: 0.03244761750102043 Accuracy: 0.7770000100135803\n",
            "Epoch 35, CIFAR-10 Batch 5:  Loss: 0.03147168084979057 Accuracy: 0.7789999842643738\n"
          ],
          "name": "stdout"
        }
      ]
    },
    {
      "metadata": {
        "id": "T9isDK8oOGmI",
        "colab_type": "text"
      },
      "cell_type": "markdown",
      "source": [
        "#Checkpoint\n",
        "The model has been saved to disk.\n",
        "\n",
        "#Test Model"
      ]
    },
    {
      "metadata": {
        "id": "rblCVk_HJHTh",
        "colab_type": "code",
        "colab": {
          "base_uri": "https://localhost:8080/",
          "height": 505
        },
        "outputId": "e16b49bb-2fa0-4720-a5a1-4dec02380ad3"
      },
      "cell_type": "code",
      "source": [
        "import random\n",
        "\n",
        "# Set batch size if not already set\n",
        "try:\n",
        "    if batch_size:\n",
        "        pass\n",
        "except NameError:\n",
        "    batch_size = 64\n",
        "\n",
        "save_model_path = './image_classification'\n",
        "n_samples = 4\n",
        "top_n_predictions = 3\n",
        "\n",
        "def test_model():\n",
        "    \"\"\"\n",
        "    Test the saved model against the test dataset\n",
        "    \"\"\"\n",
        "\n",
        "    test_features, test_labels = pickle.load(open('preprocess_training.p', mode='rb'))\n",
        "    loaded_graph = tf.Graph()\n",
        "\n",
        "    with tf.Session(graph=loaded_graph) as sess:\n",
        "        # Load model\n",
        "        loader = tf.train.import_meta_graph(save_model_path + '.meta')\n",
        "        loader.restore(sess, save_model_path)\n",
        "\n",
        "        # Get Tensors from loaded model\n",
        "        loaded_x = loaded_graph.get_tensor_by_name('x:0')\n",
        "        loaded_y = loaded_graph.get_tensor_by_name('y:0')\n",
        "        loaded_keep_prob = loaded_graph.get_tensor_by_name('keep_prob:0')\n",
        "        loaded_logits = loaded_graph.get_tensor_by_name('logits:0')\n",
        "        loaded_acc = loaded_graph.get_tensor_by_name('accuracy:0')\n",
        "        \n",
        "        # Get accuracy in batches for memory limitations\n",
        "        test_batch_acc_total = 0\n",
        "        test_batch_count = 0\n",
        "        \n",
        "        for train_feature_batch, train_label_batch in batch_features_labels(test_features, test_labels, batch_size):\n",
        "            test_batch_acc_total += sess.run(\n",
        "                loaded_acc,\n",
        "                feed_dict={loaded_x: train_feature_batch, loaded_y: train_label_batch, loaded_keep_prob: 1.0})\n",
        "            test_batch_count += 1\n",
        "\n",
        "        print('Testing Accuracy: {}\\n'.format(test_batch_acc_total/test_batch_count))\n",
        "\n",
        "        # Print Random Samples\n",
        "        random_test_features, random_test_labels = tuple(zip(*random.sample(list(zip(test_features, test_labels)), n_samples)))\n",
        "        random_test_predictions = sess.run(\n",
        "            tf.nn.top_k(tf.nn.softmax(loaded_logits), top_n_predictions),\n",
        "            feed_dict={loaded_x: random_test_features, loaded_y: random_test_labels, loaded_keep_prob: 1.0})\n",
        "        display_image_predictions(random_test_features, random_test_labels, random_test_predictions)\n",
        "\n",
        "test_model()"
      ],
      "execution_count": 30,
      "outputs": [
        {
          "output_type": "stream",
          "text": [
            "INFO:tensorflow:Restoring parameters from ./image_classification\n",
            "Testing Accuracy: 0.767306170886076\n",
            "\n"
          ],
          "name": "stdout"
        },
        {
          "output_type": "display_data",
          "data": {
            "image/png": "[encoded data removed]",
            "text/plain": [
              "<matplotlib.figure.Figure at 0x7f9875ac6eb8>"
            ]
          },
          "metadata": {
            "tags": []
          }
        }
      ]
    }
  ]
}